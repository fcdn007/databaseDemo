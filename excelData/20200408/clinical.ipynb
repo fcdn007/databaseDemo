{
 "cells": [
  {
   "cell_type": "code",
   "execution_count": 4,
   "metadata": {},
   "outputs": [],
   "source": [
    "import numpy as np\n",
    "import pandas as pd\n",
    "import re\n",
    "from pprint import pprint\n",
    "clinical_df = pd.read_excel(\"20200414.xlsx\", sheet_name=0)\n",
    "library_df = pd.read_excel(\"20200414.xlsx\", sheet_name=1)"
   ]
  },
  {
   "cell_type": "code",
   "execution_count": 5,
   "metadata": {},
   "outputs": [
    {
     "output_type": "stream",
     "name": "stdout",
     "text": "total sampleId in clinical_df: 2357; unique sampleId(count=1) in clinical_df: 2065\n"
    }
   ],
   "source": [
    "sampleId_count_clinical = clinical_df[\"样本编号\"].value_counts()\n",
    "sampleId_unique_clinical = sampleId_count_clinical.index[sampleId_count_clinical==1]\n",
    "print(\"total sampleId in clinical_df: {}; unique sampleId(count=1) in clinical_df: {}\".format(clinical_df.shape[0], sampleId_unique_clinical.shape[0]))"
   ]
  },
  {
   "cell_type": "code",
   "execution_count": 6,
   "metadata": {},
   "outputs": [
    {
     "output_type": "stream",
     "name": "stdout",
     "text": "total sampleId in library_df: 2197; unique sampleId(count=1) in clinical_df: 1408\n"
    }
   ],
   "source": [
    "library_df.loc[:, \"虚拟入库样本名\"] = library_df.loc[:, \"虚拟入库样本名\"].fillna(method='ffill')\n",
    "library_df.loc[:, \"pooling比例\"] = library_df.loc[:, \"pooling比例\"].fillna(method='ffill')\t\n",
    "library_df.loc[:, \"取样ng\"] = library_df.loc[:, \"取样ng\"].fillna(method='ffill')\t\n",
    "library_df.loc[:, \"体积ul\"] = library_df.loc[:, \"体积ul\"].fillna(method='ffill')\t\n",
    "library_df.loc[:, \"杂交探针\"] = library_df.loc[:, \"杂交探针\"].fillna(method='ffill')\t\n",
    "library_df.loc[:, \"杂交时间h\"] = library_df.loc[:, \"杂交时间h\"].fillna(method='ffill')\t\n",
    "library_df.loc[:, \"PostPCR循环数\"] = library_df.loc[:, \"PostPCR循环数\"].fillna(method='ffill')\t\n",
    "library_df.loc[:, \"PostPCR浓度ng/ul\"] = library_df.loc[:, \"PostPCR浓度ng/ul\"].fillna(method='ffill')\t\n",
    "library_df.loc[:, \"洗脱体积\"] = library_df.loc[:, \"洗脱体积\"].fillna(method='ffill')\t\n",
    "library_df.loc[:, \"文库质控\"] = library_df.loc[:, \"文库质控\"].fillna(method='ffill')\t\n",
    "library_df.loc[:, \"文库名称\"] = library_df.loc[:, \"文库名称\"].fillna(method='ffill')\n",
    "library_df = library_df.fillna('无')\n",
    "library_df[\"华大样本编号P\"] = library_df[\"华大样本编号\"].str.slice_replace(2, 3, repl='P')\n",
    "sampleId_count_libaray = library_df[\"华大样本编号P\"].value_counts()\n",
    "sampleId_unique_libaray = sampleId_count_libaray.index[sampleId_count_libaray==1]\n",
    "print(\"total sampleId in library_df: {}; unique sampleId(count=1) in library_df: {}\".format(library_df.shape[0], sampleId_unique_libaray.shape[0]))"
   ]
  },
  {
   "cell_type": "code",
   "execution_count": 7,
   "metadata": {},
   "outputs": [
    {
     "output_type": "stream",
     "name": "stdout",
     "text": "overlap unique sampleId(count=1) in clinical_df and library_df: 1105\n"
    }
   ],
   "source": [
    "sampleId_unique_overlap = sampleId_unique_libaray[sampleId_unique_libaray.isin(sampleId_unique_clinical)]\n",
    "print(\"overlap unique sampleId(count=1) in clinical_df and library_df: {}\".format(sampleId_unique_overlap.shape[0]))"
   ]
  },
  {
   "cell_type": "code",
   "execution_count": 8,
   "metadata": {},
   "outputs": [],
   "source": [
    "library_df_filt = library_df.loc[library_df[\"华大样本编号P\"].isin(sampleId_unique_overlap)]\n",
    "library_df_filt[\"建库编号\"] = library_df[\"华大样本编号\"].str.replace(re.compile(r'$'), '_1_m1')\n",
    "library_df_filt[\"DNA提取编号\"] = library_df[\"华大样本编号\"].str.replace(re.compile(r'$'), '_1')\n",
    "count = {}\n",
    "libraryId_list = []\n",
    "for dnaId in library_df_filt.loc[:, \"DNA提取编号\"]:\n",
    "    dnaId = str(dnaId)\n",
    "    count[dnaId] = count[dnaId]+1 if dnaId in count else 1\n",
    "    libraryId_list.append(\"{}_m{}\".format(dnaId, count[dnaId]))\n",
    "\n",
    "clinical_df_filt = clinical_df.loc[clinical_df[\"样本编号\"].isin(sampleId_unique_overlap)]\n",
    "with pd.ExcelWriter(\"library.20200424.xlsx\") as writer:\n",
    "    library_df_filt.to_excel(writer, sheet_name=\"建库表(clinicalDf_overlap_libraryDf)\", index=False)\n",
    "    clinical_df_filt.to_excel(writer, sheet_name=\"临床信息表(clinicalDf_overlap_libraryDf)\", index=False)\n"
   ]
  },
  {
   "cell_type": "code",
   "execution_count": 7,
   "metadata": {},
   "outputs": [],
   "source": [
    "for i in count:\n",
    "    if count[i]>1:\n",
    "        print(\"k: {}; v: {}\".format(i, count[i]))"
   ]
  },
  {
   "cell_type": "code",
   "execution_count": 6,
   "metadata": {},
   "outputs": [],
   "source": [
    "filenames = []\n",
    "df_list = []"
   ]
  },
  {
   "cell_type": "code",
   "execution_count": 7,
   "metadata": {},
   "outputs": [],
   "source": [
    "# 处理\"BGI健康人 20190905.xlsx\"\n",
    "test_df = pd.read_excel(\"BGI健康人 20190905.xlsx\", sheet_name=\"1 临床信息表\")\n",
    "test_df_filt = test_df.loc[test_df[\"样本编号\"].isin(sampleId_unique_overlap)]\n",
    "filenames.append(\"BGI健康人 20190905.xlsx\")\n",
    "df_list.append(test_df_filt)"
   ]
  },
  {
   "cell_type": "code",
   "execution_count": 8,
   "metadata": {},
   "outputs": [
    {
     "output_type": "stream",
     "name": "stdout",
     "text": "shape of test_df: (96, 19); shape of test_df_filt: (96, 19); \n"
    }
   ],
   "source": [
    "print(\"shape of test_df: {}; shape of test_df_filt: {}; \".format(test_df.shape, test_df_filt.shape))"
   ]
  },
  {
   "cell_type": "code",
   "execution_count": 9,
   "metadata": {},
   "outputs": [
    {
     "output_type": "stream",
     "name": "stdout",
     "text": "shape of test_df: (129, 71); shape of test_df_filt: (43, 71); \n"
    }
   ],
   "source": [
    "# 处理\"肺癌.xlsx\"\n",
    "test_df = pd.read_excel(\"肺癌.xlsx\", sheet_name=0)\n",
    "test_df_filt = test_df.loc[test_df[\"华大编号\"].isin(sampleId_unique_overlap)]\n",
    "print(\"shape of test_df: {}; shape of test_df_filt: {}; \".format(test_df.shape, test_df_filt.shape))"
   ]
  },
  {
   "cell_type": "code",
   "execution_count": 10,
   "metadata": {},
   "outputs": [],
   "source": [
    "def joinField(series_):\n",
    "    s=\"\"\n",
    "    series_new = series_.copy(deep=True)\n",
    "    series_new.fillna(\"无\", inplace=True)\n",
    "    for idx in range(series_new.shape[0]):\n",
    "        v=series_new[idx] if series_new[idx]!=\"\" else \"无\"\n",
    "        s = s+\"; {}: {}\".format(series_new.index[idx], v)\n",
    "    return s[2:]"
   ]
  },
  {
   "cell_type": "code",
   "execution_count": 11,
   "metadata": {},
   "outputs": [],
   "source": [
    "# test_df_filt.ix[test_df_filt.index[0]].fillna(\"无\")"
   ]
  },
  {
   "cell_type": "code",
   "execution_count": 12,
   "metadata": {},
   "outputs": [],
   "source": [
    "test_df_filt.loc[:,\"Gender\"] = test_df_filt.loc[:,\"Gender\"].str.replace(\"F\", \"女\")\n",
    "test_df_filt.loc[:,\"Gender\"] = test_df_filt.loc[:,\"Gender\"].str.replace(\"M\", \"男\")\n",
    "data = pd.DataFrame({\n",
    "    \"样本编号\": test_df_filt.loc[:,\"华大编号\"],\n",
    "    \"姓名\": test_df_filt.loc[:,\"姓名\"],\n",
    "    \"性别\": test_df_filt.loc[:,\"Gender\"],\n",
    "    \"年龄\": test_df_filt.loc[:,\"Age\"],\n",
    "    \"住院号\": test_df_filt.loc[:,\"patient_hospital_ID\"],\n",
    "    \"癌种\": test_df_filt.loc[:,\"病理\"],\n",
    "    \"分期\": test_df_filt.loc[:,\"Stage\"],\n",
    "    \"诊断\": test_df_filt.loc[:,\"病理诊断\"],\n",
    "    \"诊断备注\": [ joinField(test_df_filt.ix[idx, [\"TNM\", \"病理诊断\", \"位置\", \"随访记录\", \"FU_last\", \"Status\", \"Recurrence\", \"DFS\", \"FU_DFS\", \"OS\", \"FU_OS\", \"Smoking\", \"是否复发（0否，1是）\", \"局部复发/远处转移\", \"肿瘤复发时间部位\", \"无瘤生存时间（月）\", \"复发后治疗\", \"是否死亡（0存活，1死亡）\", \"死亡时间（月）\", \"总存活时间\", \"死亡是否与肿瘤相关（0无关，1相关）\", \"慢性病史\", \"既往肿瘤病史\", \"吸烟史（无吸烟史=0，有吸烟史记录包年数）\", \"是否戒烟（无吸烟史=0；未戒烟=0；戒烟=1）\", \"戒烟时长（x月，或x年）小于1月不记录\", \"肺癌家族史（1有，写出具体关系； 0无）\"]]) for idx in test_df_filt.index ],\n",
    "    \"采样日期\": test_df_filt.loc[:,\"手术日期\"],\n",
    "    \"医院编号\": [\"无\" for x in test_df_filt.index],\n",
    "    \"科室\": [\"无\" for x in test_df_filt.index],\n",
    "    \"血浆管数\": test_df_filt.loc[:, \"血标本\"].str.extract(r'p\\*(\\d+)', flags=re.IGNORECASE, expand=True).fillna(0).iloc[:,0],\n",
    "    \"癌旁组织\": test_df_filt.loc[:,\"癌旁组织标本(管数)N\"],\n",
    "    \"癌组织\": test_df_filt.loc[:,\"肿瘤标本(管数)T\"],\n",
    "    \"白细胞\": test_df_filt.loc[:, \"血标本\"].str.extract(r'wbc\\*(\\d+)', flags=re.IGNORECASE, expand=True).fillna(0).iloc[:,0],\n",
    "    \"粪便\": [0 for x in test_df_filt.index],\n",
    "    \"寄送日期\": [np.nan for x in test_df_filt.index],\n",
    "    \"备注\": test_df_filt.loc[:,\"备注\"]\n",
    "    })\n",
    "\n",
    "filenames.append(\"肺癌.xlsx\")\n",
    "df_list.append(data)"
   ]
  },
  {
   "cell_type": "code",
   "execution_count": 13,
   "metadata": {},
   "outputs": [
    {
     "output_type": "stream",
     "name": "stdout",
     "text": "shape of test_df: (24, 28); shape of test_df_filt: (0, 28); \n"
    }
   ],
   "source": [
    "# 处理\"福建肠癌.xlsx\"\n",
    "test_df = pd.read_excel(\"福建肠癌.xlsx\", sheet_name=0)\n",
    "test_df_filt = test_df.loc[test_df[\"华大编号\"].isin(sampleId_unique_overlap)]\n",
    "print(\"shape of test_df: {}; shape of test_df_filt: {}; \".format(test_df.shape, test_df_filt.shape))"
   ]
  },
  {
   "cell_type": "code",
   "execution_count": 14,
   "metadata": {},
   "outputs": [
    {
     "output_type": "stream",
     "name": "stdout",
     "text": "shape of test_df: (182, 27); shape of test_df_filt: (66, 27); \n"
    }
   ],
   "source": [
    "# 处理\"广州南医五院第二批样本 20191119.xlsx\"\n",
    "test_df = pd.read_excel(\"广州南医五院第二批样本 20191119.xlsx\", sheet_name=0)\n",
    "test_df_filt = test_df.loc[test_df[\"华大编号\"].isin(sampleId_unique_overlap)]\n",
    "print(\"shape of test_df: {}; shape of test_df_filt: {}; \".format(test_df.shape, test_df_filt.shape))"
   ]
  },
  {
   "cell_type": "code",
   "execution_count": 15,
   "metadata": {},
   "outputs": [],
   "source": [
    "data = pd.DataFrame({\n",
    "    \"样本编号\": test_df_filt.loc[:,\"华大编号\"],\n",
    "    \"姓名\": test_df_filt.loc[:,\"姓名\"],\n",
    "    \"性别\": test_df_filt.loc[:,\"性别\"],\n",
    "    \"年龄\": test_df_filt.loc[:,\"年龄\"],\n",
    "    \"住院号\": test_df_filt.loc[:,\"原始样本编号\"],\n",
    "    \"癌种\": [\"无\" for x in test_df_filt.index],\n",
    "    \"分期\": [\"无\" for x in test_df_filt.index],\n",
    "    \"诊断\": [\"无\" for x in test_df_filt.index],\n",
    "    \"诊断备注\": [\"无\" for x in test_df_filt.index],\n",
    "    \"采样日期\": [np.nan for x in test_df_filt.index],\n",
    "    \"医院编号\": [\"广州南医五院\" for x in test_df_filt.index],\n",
    "    \"科室\": [\"无\" for x in test_df_filt.index],\n",
    "    \"血浆管数\": [1 if pd.isna(test_df_filt.loc[x,\"另一管血的编号\"]) else 2 for x in test_df_filt.index],\n",
    "    \"癌旁组织\": [0 for x in test_df_filt.index],\n",
    "    \"癌组织\": [0 for x in test_df_filt.index],\n",
    "    \"白细胞\": [0 if pd.isna(test_df_filt.loc[x,\"另一管血的编号\"]) else 1 for x in test_df_filt.index],\n",
    "    \"粪便\": [0 for x in test_df_filt.index],\n",
    "    \"寄送日期\": test_df_filt.loc[:,\"送检日期\"],\n",
    "    \"备注\": [ joinField(test_df_filt.ix[idx, [\"采血管编号\", \"另一管血的编号\", \"送样批次\", \"备注\"]]) for idx in test_df_filt.index ]\n",
    "    })\n",
    "\n",
    "filenames.append(\"广州南医五院第二批样本 20191119.xlsx\")\n",
    "df_list.append(data)"
   ]
  },
  {
   "cell_type": "code",
   "execution_count": 16,
   "metadata": {},
   "outputs": [
    {
     "output_type": "stream",
     "name": "stdout",
     "text": "shape of test_df: (102, 19); shape of test_df_filt: (49, 19); \n"
    }
   ],
   "source": [
    "# 处理\"广州南医五院第一批样本 20190905.xlsx\"\n",
    "test_df = pd.read_excel(\"广州南医五院第一批样本 20190905.xlsx\", sheet_name=\"1 临床信息表\")\n",
    "test_df_filt = test_df.loc[test_df[\"样本编号\"].isin(sampleId_unique_overlap)]\n",
    "print(\"shape of test_df: {}; shape of test_df_filt: {}; \".format(test_df.shape, test_df_filt.shape))"
   ]
  },
  {
   "cell_type": "code",
   "execution_count": 17,
   "metadata": {},
   "outputs": [],
   "source": [
    "filenames.append(\"广州南医五院第一批样本 20190905.xlsx\")\n",
    "df_list.append(test_df_filt)"
   ]
  },
  {
   "cell_type": "code",
   "execution_count": 18,
   "metadata": {},
   "outputs": [
    {
     "output_type": "stream",
     "name": "stdout",
     "text": "shape of test_df: (100, 19); shape of test_df_filt: (53, 19); \n"
    }
   ],
   "source": [
    "# 处理\"湖南省肿瘤医院结直肠癌 20191107.xlsx\"\n",
    "test_df = pd.read_excel(\"湖南省肿瘤医院结直肠癌 20191107.xlsx\", sheet_name=\"1 临床信息表\")\n",
    "test_df_filt = test_df.loc[test_df[\"样本编号\"].isin(sampleId_unique_overlap)]\n",
    "print(\"shape of test_df: {}; shape of test_df_filt: {}; \".format(test_df.shape, test_df_filt.shape))"
   ]
  },
  {
   "cell_type": "code",
   "execution_count": 19,
   "metadata": {},
   "outputs": [],
   "source": [
    "filenames.append(\"湖南省肿瘤医院结直肠癌 20191107.xlsx\")\n",
    "df_list.append(test_df_filt)"
   ]
  },
  {
   "cell_type": "code",
   "execution_count": 20,
   "metadata": {},
   "outputs": [
    {
     "output_type": "stream",
     "name": "stdout",
     "text": "shape of test_df1: (128, 35); shape of test_df1_filt: (0, 35); \nshape of test_df2: (15, 18); shape of test_df2_filt: (0, 18); \n"
    }
   ],
   "source": [
    "# 处理\"华大肠癌项目-样本信息登记表.xlsx\"\n",
    "test_df1 = pd.read_excel(\"华大肠癌项目-样本信息登记表.xlsx\", sheet_name=\"肠癌\")\n",
    "test_df1_filt = test_df1.loc[test_df1[\"华大编号\"].isin(sampleId_unique_overlap)]\n",
    "print(\"shape of test_df1: {}; shape of test_df1_filt: {}; \".format(test_df1.shape, test_df1_filt.shape))\n",
    "test_df2 = pd.read_excel(\"华大肠癌项目-样本信息登记表.xlsx\", sheet_name=\"健康人\")\n",
    "test_df2_filt = test_df2.loc[test_df2[\"全血编号\"].isin(sampleId_unique_overlap)]\n",
    "print(\"shape of test_df2: {}; shape of test_df2_filt: {}; \".format(test_df2.shape, test_df2_filt.shape))\n"
   ]
  },
  {
   "cell_type": "code",
   "execution_count": 21,
   "metadata": {},
   "outputs": [
    {
     "output_type": "stream",
     "name": "stdout",
     "text": "shape of test_df: (9, 28); shape of test_df_filt: (0, 28); \n"
    }
   ],
   "source": [
    "# 处理\"南通肝癌.xlsx\"\n",
    "test_df = pd.read_excel(\"南通肝癌.xlsx\", sheet_name=0)\n",
    "test_df_filt = test_df.loc[test_df[\"华大编号\"].isin(sampleId_unique_overlap)]\n",
    "print(\"shape of test_df: {}; shape of test_df_filt: {}; \".format(test_df.shape, test_df_filt.shape))"
   ]
  },
  {
   "cell_type": "code",
   "execution_count": 22,
   "metadata": {},
   "outputs": [
    {
     "output_type": "stream",
     "name": "stdout",
     "text": "shape of test_df: (235, 26); shape of test_df_filt: (62, 26); \n"
    }
   ],
   "source": [
    "# 处理\"上海肺癌.xlsx\"\n",
    "test_df = pd.read_excel(\"上海肺癌.xlsx\", sheet_name=0)\n",
    "test_df_filt = test_df.loc[test_df[\"华大编号\"].isin(sampleId_unique_overlap)]\n",
    "print(\"shape of test_df: {}; shape of test_df_filt: {}; \".format(test_df.shape, test_df_filt.shape))"
   ]
  },
  {
   "cell_type": "code",
   "execution_count": 23,
   "metadata": {},
   "outputs": [],
   "source": [
    "data = pd.DataFrame({\n",
    "    \"样本编号\": test_df_filt.loc[:,\"华大编号\"],\n",
    "    \"姓名\": test_df_filt.loc[:,\"姓名\"],\n",
    "    \"性别\": test_df_filt.loc[:,\"性别\"],\n",
    "    \"年龄\": test_df_filt.loc[:,\"年龄\"],\n",
    "    \"住院号\": test_df_filt.loc[:,\"原始样本编号\"],\n",
    "    \"癌种\": test_df_filt.loc[:,\"癌种\"],\n",
    "    \"分期\": [\"无\" for x in test_df_filt.index],\n",
    "    \"诊断\": test_df_filt.loc[:,\"病理\"],\n",
    "    \"诊断备注\": [\"无\" for x in test_df_filt.index],\n",
    "    \"采样日期\": test_df_filt.loc[:,\"采样日期\"],\n",
    "    \"医院编号\": [\"无\" for x in test_df_filt.index],\n",
    "    \"科室\": [\"无\" for x in test_df_filt.index],\n",
    "    \"血浆管数\": [1 for x in test_df_filt.index],\n",
    "    \"癌旁组织\": [0 for x in test_df_filt.index],\n",
    "    \"癌组织\": [0 for x in test_df_filt.index],\n",
    "    \"白细胞\": [0 for x in test_df_filt.index],\n",
    "    \"粪便\": [0 for x in test_df_filt.index],\n",
    "    \"寄送日期\": [np.nan for x in test_df_filt.index],\n",
    "    \"备注\": test_df_filt.loc[:,\"送样批次\"]\n",
    "    })\n",
    "\n",
    "filenames.append(\"上海肺癌.xlsx\")\n",
    "df_list.append(data)"
   ]
  },
  {
   "cell_type": "code",
   "execution_count": 24,
   "metadata": {},
   "outputs": [
    {
     "output_type": "stream",
     "name": "stdout",
     "text": "shape of test_df: (121, 19); shape of test_df_filt: (118, 19); \n"
    }
   ],
   "source": [
    "# 处理\"上海复旦中山胰腺癌 20191107.xlsx\"\n",
    "test_df = pd.read_excel(\"上海复旦中山胰腺癌 20191107.xlsx\", sheet_name=\"1 临床信息表\")\n",
    "test_df_filt = test_df.loc[test_df[\"样本编号\"].isin(sampleId_unique_overlap)]\n",
    "print(\"shape of test_df: {}; shape of test_df_filt: {}; \".format(test_df.shape, test_df_filt.shape))"
   ]
  },
  {
   "cell_type": "code",
   "execution_count": 25,
   "metadata": {},
   "outputs": [],
   "source": [
    "filenames.append(\"上海复旦中山胰腺癌 20191107.xlsx\")\n",
    "df_list.append(test_df_filt)"
   ]
  },
  {
   "cell_type": "code",
   "execution_count": 26,
   "metadata": {},
   "outputs": [
    {
     "output_type": "stream",
     "name": "stdout",
     "text": "shape of test_df: (426, 28); shape of test_df_filt: (212, 28); \n"
    }
   ],
   "source": [
    "# 处理\"上海肝癌.xlsx\"\n",
    "test_df = pd.read_excel(\"上海肝癌.xlsx\", sheet_name=0)\n",
    "test_df_filt = test_df.loc[test_df[\"华大编号\"].isin(sampleId_unique_overlap)]\n",
    "print(\"shape of test_df: {}; shape of test_df_filt: {}; \".format(test_df.shape, test_df_filt.shape))"
   ]
  },
  {
   "cell_type": "code",
   "execution_count": 27,
   "metadata": {},
   "outputs": [],
   "source": [
    "data = pd.DataFrame({\n",
    "    \"样本编号\": test_df_filt.loc[:,\"华大编号\"],\n",
    "    \"姓名\": test_df_filt.loc[:,\"姓名\"],\n",
    "    \"性别\": test_df_filt.loc[:,\"性别\"],\n",
    "    \"年龄\": test_df_filt.loc[:,\"年龄\"],\n",
    "    \"住院号\": test_df_filt.loc[:,\"原始样本编号\"],\n",
    "    \"癌种\": test_df_filt.loc[:,\"癌种\"],\n",
    "    \"分期\": [\"无\" for x in test_df_filt.index],\n",
    "    \"诊断\": [\"无\" for x in test_df_filt.index],\n",
    "    \"诊断备注\": [\"无\" for x in test_df_filt.index],\n",
    "    \"采样日期\": test_df_filt.loc[:,\"采样日期\"],\n",
    "    \"医院编号\": [\"无\" for x in test_df_filt.index],\n",
    "    \"科室\": [\"无\" for x in test_df_filt.index],\n",
    "    \"血浆管数\": [1 for x in test_df_filt.index],\n",
    "    \"癌旁组织\": [0 for x in test_df_filt.index],\n",
    "    \"癌组织\": [0 for x in test_df_filt.index],\n",
    "    \"白细胞\": [0 for x in test_df_filt.index],\n",
    "    \"粪便\": [0 for x in test_df_filt.index],\n",
    "    \"寄送日期\": [np.nan for x in test_df_filt.index],\n",
    "    \"备注\": test_df_filt.loc[:,\"送样批次\"]\n",
    "    })\n",
    "\n",
    "filenames.append(\"上海肝癌.xlsx\")\n",
    "df_list.append(data)"
   ]
  },
  {
   "cell_type": "code",
   "execution_count": 28,
   "metadata": {},
   "outputs": [
    {
     "output_type": "stream",
     "name": "stdout",
     "text": "shape of test_df: (41, 22); shape of test_df_filt: (20, 22); \n"
    }
   ],
   "source": [
    "# 处理\"上海肝硬化.xlsx\"\n",
    "test_df = pd.read_excel(\"上海肝硬化.xlsx\", sheet_name=0)\n",
    "test_df_filt = test_df.loc[test_df[\"华大编号\"].isin(sampleId_unique_overlap)]\n",
    "print(\"shape of test_df: {}; shape of test_df_filt: {}; \".format(test_df.shape, test_df_filt.shape))"
   ]
  },
  {
   "cell_type": "code",
   "execution_count": 29,
   "metadata": {},
   "outputs": [],
   "source": [
    "data = pd.DataFrame({\n",
    "    \"样本编号\": test_df_filt.loc[:,\"华大编号\"],\n",
    "    \"姓名\": test_df_filt.loc[:,\"姓名\"],\n",
    "    \"性别\": test_df_filt.loc[:,\"性别\"],\n",
    "    \"年龄\": test_df_filt.loc[:,\"年龄\"],\n",
    "    \"住院号\": test_df_filt.loc[:,\"原始样本编号\"],\n",
    "    \"癌种\": test_df_filt.loc[:,\"癌种\"],\n",
    "    \"分期\": [\"无\" for x in test_df_filt.index],\n",
    "    \"诊断\": [\"无\" for x in test_df_filt.index],\n",
    "    \"诊断备注\": [\"无\" for x in test_df_filt.index],\n",
    "    \"采样日期\": test_df_filt.loc[:,\"采样日期\"],\n",
    "    \"医院编号\": [\"无\" for x in test_df_filt.index],\n",
    "    \"科室\": [\"无\" for x in test_df_filt.index],\n",
    "    \"血浆管数\": [1 for x in test_df_filt.index],\n",
    "    \"癌旁组织\": [0 for x in test_df_filt.index],\n",
    "    \"癌组织\": [0 for x in test_df_filt.index],\n",
    "    \"白细胞\": [0 for x in test_df_filt.index],\n",
    "    \"粪便\": [0 for x in test_df_filt.index],\n",
    "    \"寄送日期\": [np.nan for x in test_df_filt.index],\n",
    "    \"备注\": test_df_filt.loc[:,\"送样批次\"]\n",
    "    })\n",
    "\n",
    "filenames.append(\"上海肝硬化.xlsx\")\n",
    "df_list.append(data)"
   ]
  },
  {
   "cell_type": "code",
   "execution_count": 30,
   "metadata": {},
   "outputs": [
    {
     "output_type": "stream",
     "name": "stdout",
     "text": "shape of test_df: (60, 16); shape of test_df_filt: (0, 16); \n"
    }
   ],
   "source": [
    "# 处理\"上海组织.xlsx\"\n",
    "test_df = pd.read_excel(\"上海组织.xlsx\", sheet_name=0)\n",
    "test_df_filt = test_df.loc[test_df[\"华大编号\"].isin(sampleId_unique_overlap)]\n",
    "print(\"shape of test_df: {}; shape of test_df_filt: {}; \".format(test_df.shape, test_df_filt.shape))"
   ]
  },
  {
   "cell_type": "code",
   "execution_count": 31,
   "metadata": {},
   "outputs": [
    {
     "output_type": "stream",
     "name": "stdout",
     "text": "shape of test_df: (171, 14); shape of test_df_filt: (0, 14); \n"
    }
   ],
   "source": [
    "# 处理\"胃癌组织.xlsx\"\n",
    "test_df = pd.read_excel(\"胃癌组织.xlsx\", sheet_name=0)\n",
    "test_df_filt = test_df.loc[test_df[\"华大虚拟编号\"].isin(sampleId_unique_overlap)]\n",
    "print(\"shape of test_df: {}; shape of test_df_filt: {}; \".format(test_df.shape, test_df_filt.shape))"
   ]
  },
  {
   "cell_type": "code",
   "execution_count": 32,
   "metadata": {},
   "outputs": [
    {
     "output_type": "stream",
     "name": "stdout",
     "text": "shape of test_df: (41, 30); shape of test_df_filt: (17, 30); \n"
    }
   ],
   "source": [
    "# 处理\"中大六院肠癌早筛-样本信息登记表(回顾性两批)L.xlsx\"\n",
    "test_df = pd.read_excel(\"中大六院肠癌早筛-样本信息登记表(回顾性两批)L.xlsx\", sheet_name=0)\n",
    "test_df_filt = test_df.loc[test_df[\"华大编号\"].isin(sampleId_unique_overlap)]\n",
    "print(\"shape of test_df: {}; shape of test_df_filt: {}; \".format(test_df.shape, test_df_filt.shape))"
   ]
  },
  {
   "cell_type": "code",
   "execution_count": 33,
   "metadata": {},
   "outputs": [],
   "source": [
    "data = pd.DataFrame({\n",
    "    \"样本编号\": test_df_filt.loc[:,\"华大编号\"],\n",
    "    \"姓名\": test_df_filt.loc[:,\"姓名\"],\n",
    "    \"性别\": test_df_filt.loc[:,\"性别\"],\n",
    "    \"年龄\": test_df_filt.loc[:,\"年龄\"],\n",
    "    \"住院号\": [\"无\" for x in test_df_filt.index],\n",
    "    \"癌种\": test_df_filt.loc[:,\"诊断\"],\n",
    "    \"分期\": [\"无\" for x in test_df_filt.index],\n",
    "    \"诊断\": test_df_filt.loc[:,\"诊断\"],\n",
    "    \"诊断备注\": [ joinField(test_df_filt.ix[idx, [\"TNM\", \"TTNNMM\"]]) for idx in test_df_filt.index ],\n",
    "    \"采样日期\": test_df_filt.loc[:,\"采样日期\"],\n",
    "    \"医院编号\": test_df_filt.loc[:,\"医院编号\"],\n",
    "    \"科室\": [\"无\" for x in test_df_filt.index],\n",
    "    \"血浆管数\": [1 for x in test_df_filt.index],\n",
    "    \"癌旁组织\": [0 for x in test_df_filt.index],\n",
    "    \"癌组织\": [0 for x in test_df_filt.index],\n",
    "    \"白细胞\": [0 for x in test_df_filt.index],\n",
    "    \"粪便\": [0 for x in test_df_filt.index],\n",
    "    \"寄送日期\": test_df_filt.loc[:,\"寄送日期\"],\n",
    "    \"备注\": [\"无\" for x in test_df_filt.index]\n",
    "    })\n",
    "\n",
    "filenames.append(\"中大六院肠癌早筛-样本信息登记表(回顾性两批)L.xlsx\")\n",
    "df_list.append(data)"
   ]
  },
  {
   "cell_type": "code",
   "execution_count": 34,
   "metadata": {},
   "outputs": [
    {
     "output_type": "stream",
     "name": "stdout",
     "text": "shape of test_df: (254, 28); shape of test_df_filt: (190, 28); \n"
    }
   ],
   "source": [
    "# 处理\"中大六院肠癌早筛-样本信息登记表2020-3-31.xlsx\"\n",
    "test_df = pd.read_excel(\"中大六院肠癌早筛-样本信息登记表2020-3-31.xlsx\", sheet_name=0)\n",
    "test_df_filt = test_df.loc[test_df[\"华大编号\"].isin(sampleId_unique_overlap)]\n",
    "print(\"shape of test_df: {}; shape of test_df_filt: {}; \".format(test_df.shape, test_df_filt.shape))"
   ]
  },
  {
   "cell_type": "code",
   "execution_count": 35,
   "metadata": {},
   "outputs": [],
   "source": [
    "data = pd.DataFrame({\n",
    "    \"样本编号\": test_df_filt.loc[:,\"华大编号\"],\n",
    "    \"姓名\": test_df_filt.loc[:,\"姓名\"],\n",
    "    \"性别\": test_df_filt.loc[:,\"性别\"],\n",
    "    \"年龄\": test_df_filt.loc[:,\"年龄\"],\n",
    "    \"住院号\": test_df_filt.loc[:,\"全血编号\"],\n",
    "    \"癌种\": test_df_filt.loc[:,\"诊断\"],\n",
    "    \"分期\": [\"无\" for x in test_df_filt.index],\n",
    "    \"诊断\": test_df_filt.loc[:,\"诊断\"],\n",
    "    \"诊断备注\": [ joinField(test_df_filt.ix[idx, [\"T\", \"N\", \"M\", \"TNM\"]]) for idx in test_df_filt.index ],\n",
    "    \"采样日期\": test_df_filt.loc[:,\"采样日期\"],\n",
    "    \"医院编号\": test_df_filt.loc[:,\"医院编号\"],\n",
    "    \"科室\": [\"无\" for x in test_df_filt.index],\n",
    "    \"血浆管数\": [1 for x in test_df_filt.index],\n",
    "    \"癌旁组织\": [0 for x in test_df_filt.index],\n",
    "    \"癌组织\": [0 for x in test_df_filt.index],\n",
    "    \"白细胞\": [0 for x in test_df_filt.index],\n",
    "    \"粪便\": [0 for x in test_df_filt.index],\n",
    "    \"寄送日期\": test_df_filt.loc[:,\"寄送日期\"],\n",
    "    \"备注\": [\"无\" for x in test_df_filt.index]\n",
    "    })\n",
    "\n",
    "filenames.append(\"中大六院肠癌早筛-样本信息登记表2020-3-31.xlsx\")\n",
    "df_list.append(data)"
   ]
  },
  {
   "cell_type": "code",
   "execution_count": 36,
   "metadata": {},
   "outputs": [
    {
     "output_type": "stream",
     "name": "stdout",
     "text": "shape of test_df1: (128, 34); shape of test_df1_filt: (0, 34); \nshape of test_df2: (15, 6); shape of test_df2_filt: (0, 6); \n"
    }
   ],
   "source": [
    "# 处理\"中山大学肿瘤医院-肠癌.xlsx\"\n",
    "test_df1 = pd.read_excel(\"中山大学肿瘤医院-肠癌.xlsx\", sheet_name=\"肠癌\")\n",
    "test_df1_filt = test_df1.loc[test_df1[\"华大编号\"].isin(sampleId_unique_overlap)]\n",
    "print(\"shape of test_df1: {}; shape of test_df1_filt: {}; \".format(test_df1.shape, test_df1_filt.shape))\n",
    "test_df2 = pd.read_excel(\"中山大学肿瘤医院-肠癌.xlsx\", sheet_name=\"健康人\")\n",
    "test_df2_filt = test_df2.loc[test_df2[\"全血编号\"].isin(sampleId_unique_overlap)]\n",
    "print(\"shape of test_df2: {}; shape of test_df2_filt: {}; \".format(test_df2.shape, test_df2_filt.shape))"
   ]
  },
  {
   "cell_type": "code",
   "execution_count": 37,
   "metadata": {},
   "outputs": [
    {
     "output_type": "stream",
     "name": "stdout",
     "text": "shape of test_df: (112, 19); shape of test_df_filt: (112, 19); \n"
    }
   ],
   "source": [
    "# 处理\"中山肝癌MRD-20191113.xlsx\"\n",
    "test_df = pd.read_excel(\"中山肝癌MRD-20191113.xlsx\", sheet_name=\"1 临床信息表\")\n",
    "test_df_filt = test_df.loc[test_df[\"样本编号\"].isin(sampleId_unique_overlap)]\n",
    "print(\"shape of test_df: {}; shape of test_df_filt: {}; \".format(test_df.shape, test_df_filt.shape))"
   ]
  },
  {
   "cell_type": "code",
   "execution_count": 38,
   "metadata": {},
   "outputs": [],
   "source": [
    "test_df_filt.loc[:,\"备注\"] = [\"无\" for x in test_df_filt.index]\n",
    "filenames.append(\"中山肝癌MRD-20191113.xlsx\")\n",
    "df_list.append(test_df_filt)\n"
   ]
  },
  {
   "cell_type": "code",
   "execution_count": 39,
   "metadata": {},
   "outputs": [
    {
     "output_type": "stream",
     "name": "stdout",
     "text": "len of filenames: 12; len of df_list: 12\n"
    }
   ],
   "source": [
    "print(\"len of filenames: {}; len of df_list: {}\".format(len(filenames), len(df_list)))"
   ]
  },
  {
   "cell_type": "code",
   "execution_count": 41,
   "metadata": {},
   "outputs": [],
   "source": [
    "with pd.ExcelWriter(\"clinical.20200426.xlsx\") as writer:\n",
    "    for idx in range(len(filenames)):\n",
    "        df_list[idx].to_excel(writer, sheet_name=filenames[idx], index=False)\n"
   ]
  },
  {
   "cell_type": "code",
   "execution_count": 42,
   "metadata": {},
   "outputs": [
    {
     "output_type": "execute_result",
     "data": {
      "text/plain": "<bound method NDFrame.head of           样本编号   姓名 性别  年龄      住院号  癌种  分期      诊断  \\\n0   19P3758198  李春萱  女  57  19P0501 NaN NaN  BGI健康人   \n1   19P3758199   蔡流  男  60  19P0502 NaN NaN  BGI健康人   \n2   19P3758200   钟燕  女  57  19P0503 NaN NaN  BGI健康人   \n3   19P3758201  彭小中  女  51  19P0504 NaN NaN  BGI健康人   \n4   19P3758202  韩桂芬  女  60  19P0505 NaN NaN  BGI健康人   \n..         ...  ... ..  ..      ...  ..  ..     ...   \n91  19P3758293   漆红  女  62  19P0596 NaN NaN  BGI健康人   \n92  19P3758294  蔡立凤  女  51  19P0597 NaN NaN  BGI健康人   \n93  19P3758295  陈从献  男  55  19P0598 NaN NaN  BGI健康人   \n94  19P3758296   刘琳  女  56  19P0599 NaN NaN  BGI健康人   \n95  19P3758297   吴洪  男  59  19P0600 NaN NaN  BGI健康人   \n\n                            诊断备注       采样日期  医院编号  科室  血浆管数  癌旁组织  癌组织  白细胞  \\\n0             肿瘤患病史: 无, 家族肿瘤史: 无 2019-04-24   NaN NaN     1     0    0    0   \n1             肿瘤患病史: 无, 家族肿瘤史: 无 2019-04-24   NaN NaN     1     0    0    1   \n2             肿瘤患病史: 无, 家族肿瘤史: 无 2019-04-24   NaN NaN     1     0    0    0   \n3             肿瘤患病史: 无, 家族肿瘤史: 无 2019-04-24   NaN NaN     1     0    0    0   \n4             肿瘤患病史: 无, 家族肿瘤史: 无 2019-04-24   NaN NaN     1     0    0    0   \n..                           ...        ...   ...  ..   ...   ...  ...  ...   \n91        肿瘤患病史: 无, 家族肿瘤史: 皮下脂肪癌 2019-04-25   NaN NaN     1     0    0    1   \n92            肿瘤患病史: 无, 家族肿瘤史: 无 2019-04-25   NaN NaN     1     0    0    0   \n93            肿瘤患病史: 无, 家族肿瘤史: 无 2019-04-25   NaN NaN     1     0    0    0   \n94  肿瘤患病史: 无, 家族肿瘤史: 母亲结肠癌，妹妹乳腺癌 2019-04-25   NaN NaN     1     0    0    1   \n95         肿瘤患病史: 无, 家族肿瘤史: 母亲肺癌 2019-04-25   NaN NaN     1     0    0    0   \n\n    粪便       寄送日期                                                 备注  \n0    0 2019-04-24  员工姓名: 张笑薇, 手机号: 18682465726.0, 给谁报名: 母亲, 电子邮箱地...  \n1    0 2019-04-24  员工姓名: 邓玉梅, 手机号: 13798515806.0, 给谁报名: 父亲, 电子邮箱地...  \n2    0 2019-04-24  员工姓名: 邓玉梅, 手机号: 13798515806.0, 给谁报名: 母亲, 电子邮箱地...  \n3    0 2019-04-24  员工姓名: 柳慧, 手机号: 15625286487.0, 给谁报名: 母亲, 电子邮箱地址...  \n4    0 2019-04-24  员工姓名: 李玉梅, 手机号: 13410176807.0, 给谁报名: 其他, 电子邮箱地...  \n..  ..        ...                                                ...  \n91   0 2019-04-25  员工姓名: 严佳, 手机号: 18988779113.0, 给谁报名: 母亲, 电子邮箱地址...  \n92   0 2019-04-25  员工姓名: 陈东升, 手机号: 13530761601.0, 给谁报名: 母亲, 电子邮箱地...  \n93   0 2019-04-25  员工姓名: 陈东升, 手机号: 13530761601.0, 给谁报名: 父亲, 电子邮箱地...  \n94   0 2019-04-25  员工姓名: 姜三杰, 手机号: 15019296604.0, 给谁报名: 其他, 电子邮箱地...  \n95   0 2019-04-25  员工姓名: 姜三杰, 手机号: 15019296604.0, 给谁报名: 其他, 电子邮箱地...  \n\n[96 rows x 19 columns]>"
     },
     "metadata": {},
     "execution_count": 42
    }
   ],
   "source": [
    "df_list[0].head"
   ]
  },
  {
   "cell_type": "code",
   "execution_count": 45,
   "metadata": {},
   "outputs": [],
   "source": [
    "sample_id_df_list = {}\n",
    "for idx in range(len(filenames)):\n",
    "    df = df_list[idx]\n",
    "    for idx2 in range(df.shape[0]):\n",
    "        row = df.index[idx2]\n",
    "        if df.loc[row, \"样本编号\"] in sample_id_df_list:\n",
    "            sample_id_df_list[df.loc[row, \"样本编号\"]].append(filenames[idx])\n",
    "        else:\n",
    "            sample_id_df_list[df.loc[row, \"样本编号\"]] = [filenames[idx]]\n",
    "\n",
    "for k in sample_id_df_list:\n",
    "    if len(sample_id_df_list[k])>1:\n",
    "        print(\"key: {}; value: {}\".format(k, sample_id_df_list[k]))"
   ]
  },
  {
   "cell_type": "code",
   "execution_count": 46,
   "metadata": {},
   "outputs": [
    {
     "output_type": "execute_result",
     "data": {
      "text/plain": "9P5298106': ['上海肝癌.xlsx'],\n '19P5127839': ['上海肝癌.xlsx'],\n '19P4178176': ['上海肝癌.xlsx'],\n '19P0138950': ['上海肝癌.xlsx'],\n '19P0138943': ['上海肝癌.xlsx'],\n '19P5790156': ['上海肝癌.xlsx'],\n '19P0138946': ['上海肝癌.xlsx'],\n '19P0165020': ['上海肝癌.xlsx'],\n '19P0156423': ['上海肝癌.xlsx'],\n '19P7247305': ['上海肝癌.xlsx'],\n '19P0138941': ['上海肝癌.xlsx'],\n '19P5790161': ['上海肝癌.xlsx'],\n '19P7247313': ['上海肝癌.xlsx'],\n '19P5790196': ['上海肝癌.xlsx'],\n '19P5127863': ['上海肝癌.xlsx'],\n '19P5298095': ['上海肝癌.xlsx'],\n '19P0138945': ['上海肝癌.xlsx'],\n '19P0138942': ['上海肝癌.xlsx'],\n '19P5127820': ['上海肝癌.xlsx'],\n '19P0165021': ['上海肝癌.xlsx'],\n '19P0138944': ['上海肝癌.xlsx'],\n '19P7247280': ['上海肝癌.xlsx'],\n '19P6714090': ['上海肝癌.xlsx'],\n '19P5790167': ['上海肝癌.xlsx'],\n '19P5790193': ['上海肝癌.xlsx'],\n '19P0156426': ['上海肝癌.xlsx'],\n '19P0156427': ['上海肝癌.xlsx'],\n '19P5127818': ['上海肝癌.xlsx'],\n '19P5790184': ['上海肝癌.xlsx'],\n '19P7247335': ['上海肝癌.xlsx'],\n '19P5790195': ['上海肝癌.xlsx'],\n '19P7247344': ['上海肝癌.xlsx'],\n '19P5790155': ['上海肝癌.xlsx'],\n '19P5298099': ['上海肝癌.xlsx'],\n '19P6714084': ['上海肝癌.xlsx'],\n '19P5298083': ['上海肝癌.xlsx'],\n '19P6714070': ['上海肝癌.xlsx'],\n '19P0156425': ['上海肝癌.xlsx'],\n '19P6714077': ['上海肝癌.xlsx'],\n '19P5298090': ['上海肝癌.xlsx'],\n '19P5790185': ['上海肝癌.xlsx'],\n '19P5298088': ['上海肝癌.xlsx'],\n '19P5127862': ['上海肝癌.xlsx'],\n '19P5790210': ['上海肝癌.xlsx'],\n '19P6714079': ['上海肝癌.xlsx'],\n '19P5127866': ['上海肝癌.xlsx'],\n '19P5298096': ['上海肝癌.xlsx'],\n '19P5127842': ['上海肝癌.xlsx'],\n '19P0156421': ['上海肝癌.xlsx'],\n '19P5790183': ['上海肝癌.xlsx'],\n '19P7247315': ['上海肝癌.xlsx'],\n '19P5790192': ['上海肝癌.xlsx'],\n '19P7247303': ['上海肝癌.xlsx'],\n '19P5127841': ['上海肝癌.xlsx'],\n '19P5790209': ['上海肝癌.xlsx'],\n '19P5298080': ['上海肝癌.xlsx'],\n '19P5790165': ['上海肝癌.xlsx'],\n '19P5127805': ['上海肝癌.xlsx'],\n '19P5790154': ['上海肝癌.xlsx'],\n '19P5298103': ['上海肝癌.xlsx'],\n '19P6714085': ['上海肝癌.xlsx'],\n '19P6714102': ['上海肝癌.xlsx'],\n '19P0156424': ['上海肝癌.xlsx'],\n '19P7247287': ['上海肝癌.xlsx'],\n '19P7247312': ['上海肝癌.xlsx'],\n '19P5790194': ['上海肝癌.xlsx'],\n '19P5298100': ['上海肝癌.xlsx'],\n '19P7247293': ['上海肝癌.xlsx'],\n '19P6714098': ['上海肝癌.xlsx'],\n '19P7247298': ['上海肝癌.xlsx'],\n '19P6714092': ['上海肝癌.xlsx'],\n '19P5790166': ['上海肝癌.xlsx'],\n '19P6714091': ['上海肝癌.xlsx'],\n '19P7247320': ['上海肝癌.xlsx'],\n '19P5298101': ['上海肝癌.xlsx'],\n '19P5790208': ['上海肝癌.xlsx'],\n '19P6714093': ['上海肝癌.xlsx'],\n '19P5298092': ['上海肝癌.xlsx'],\n '19P5298078': ['上海肝癌.xlsx'],\n '19P5298091': ['上海肝癌.xlsx'],\n '19P6714094': ['上海肝癌.xlsx'],\n '19P6714099': ['上海肝癌.xlsx'],\n '19P0156398': ['上海肝癌.xlsx'],\n '19P5790164': ['上海肝癌.xlsx'],\n '19P5790186': ['上海肝癌.xlsx'],\n '19P5790191': ['上海肝癌.xlsx'],\n '19P7247306': ['上海肝癌.xlsx'],\n '19P5127836': ['上海肝癌.xlsx'],\n '19P6714111': ['上海肝癌.xlsx'],\n '19P7247296': ['上海肝癌.xlsx'],\n '19P5790190': ['上海肝癌.xlsx'],\n '19P5127809': ['上海肝癌.xlsx'],\n '19P7247295': ['上海肝癌.xlsx'],\n '19P6714104': ['上海肝癌.xlsx'],\n '19P7247302': ['上海肝癌.xlsx'],\n '19P7247300': ['上海肝癌.xlsx'],\n '19P6714105': ['上海肝癌.xlsx'],\n '19P7247277': ['上海肝癌.xlsx'],\n '19P5790211': ['上海肝癌.xlsx'],\n '19P5298094': ['上海肝癌.xlsx'],\n '19P5127819': ['上海肝癌.xlsx'],\n '19P5127840': ['上海肝癌.xlsx'],\n '19P5790182': ['上海肝癌.xlsx'],\n '19P5790188': ['上海肝癌.xlsx'],\n '19P6714095': ['上海肝癌.xlsx'],\n '19P6714106': ['上海肝癌.xlsx'],\n '19P5298076': ['上海肝癌.xlsx'],\n '19P5127811': ['上海肝癌.xlsx'],\n '19P5127812': ['上海肝癌.xlsx'],\n '19P7247283': ['上海肝癌.xlsx'],\n '19P5127837': ['上海肝癌.xlsx'],\n '19P7247279': ['上海肝癌.xlsx'],\n '19P5127859': ['上海肝癌.xlsx'],\n '19P6714089': ['上海肝癌.xlsx'],\n '19P5298085': ['上海肝癌.xlsx'],\n '19P5127869': ['上海肝癌.xlsx'],\n '19P6714096': ['上海肝癌.xlsx'],\n '19P5127815': ['上海肝癌.xlsx'],\n '19P5298089': ['上海肝癌.xlsx'],\n '19P7247334': ['上海肝癌.xlsx'],\n '19P6714108': ['上海肝癌.xlsx'],\n '19P7247317': ['上海肝癌.xlsx'],\n '19P5298081': ['上海肝癌.xlsx'],\n '19P4178191': ['上海肝癌.xlsx'],\n '19P5127861': ['上海肝癌.xlsx'],\n '19P5127858': ['上海肝癌.xlsx'],\n '19P5127814': ['上海肝癌.xlsx'],\n '19P5790187': ['上海肝癌.xlsx'],\n '19P7247288': ['上海肝癌.xlsx'],\n '19P7247324': ['上海肝癌.xlsx'],\n '19P4178188': ['上海肝癌.xlsx'],\n '19P5127822': ['上海肝癌.xlsx'],\n '19P7247297': ['上海肝癌.xlsx'],\n '19P6714100': ['上海肝癌.xlsx'],\n '19P5127867': ['上海肝癌.xlsx'],\n '19P4178182': ['上海肝癌.xlsx'],\n '19P5127860': ['上海肝癌.xlsx'],\n '19P5790153': ['上海肝癌.xlsx'],\n '19P5127817': ['上海肝癌.xlsx'],\n '19P6714069': ['上海肝癌.xlsx'],\n '19P7247343': ['上海肝癌.xlsx'],\n '19P5298077': ['上海肝癌.xlsx'],\n '19P7247292': ['上海肝癌.xlsx'],\n '19P5127821': ['上海肝癌.xlsx'],\n '19P5127810': ['上海肝癌.xlsx'],\n '19P6714086': ['上海肝癌.xlsx'],\n '19P6714101': ['上海肝癌.xlsx'],\n '19P4178178': ['上海肝癌.xlsx'],\n '19P7247294': ['上海肝癌.xlsx'],\n '19P7247311': ['上海肝癌.xlsx'],\n '19P5298087': ['上海肝癌.xlsx'],\n '19P6714073': ['上海肝癌.xlsx'],\n '19P6714107': ['上海肝癌.xlsx'],\n '19P7247289': ['上海肝癌.xlsx'],\n '19P6714087': ['上海肝癌.xlsx'],\n '19P7247331': ['上海肝癌.xlsx'],\n '19P7247330': ['上海肝癌.xlsx'],\n '19P7247285': ['上海肝癌.xlsx'],\n '19P7247307': ['上海肝癌.xlsx'],\n '19P5127868': ['上海肝癌.xlsx'],\n '19P5298084': ['上海肝癌.xlsx'],\n '19P7247299': ['上海肝癌.xlsx'],\n '19P7247318': ['上海肝癌.xlsx'],\n '19P6714114': ['上海肝癌.xlsx'],\n '19P5298093': ['上海肝癌.xlsx'],\n '19P7247338': ['上海肝癌.xlsx'],\n '19P5127813': ['上海肝癌.xlsx'],\n '19P6714109': ['上海肝癌.xlsx'],\n '19P7247278': ['上海肝癌.xlsx'],\n '19P6714071': ['上海肝癌.xlsx'],\n '19P7247316': ['上海肝癌.xlsx'],\n '19P7247342': ['上海肝癌.xlsx'],\n '19P7247333': ['上海肝癌.xlsx'],\n '19P6714068': ['上海肝癌.xlsx'],\n '19P4178195': ['上海肝癌.xlsx'],\n '19P5127838': ['上海肝癌.xlsx'],\n '19P5790198': ['上海肝癌.xlsx'],\n '19P6714072': ['上海肝癌.xlsx'],\n '19P4178181': ['上海肝癌.xlsx'],\n '19P6714074': ['上海肝癌.xlsx'],\n '19P5127865': ['上海肝癌.xlsx'],\n '19P5127864': ['上海肝癌.xlsx'],\n '19P4178180': ['上海肝癌.xlsx'],\n '19P4178190': ['上海肝癌.xlsx'],\n '19P6714103': ['上海肝癌.xlsx'],\n '19P5790197': ['上海肝癌.xlsx'],\n '19P6714113': ['上海肝癌.xlsx'],\n '19P6714080': ['上海肝癌.xlsx'],\n '19P6714083': ['上海肝癌.xlsx'],\n '19P6714112': ['上海肝癌.xlsx'],\n '19P6714075': ['上海肝癌.xlsx'],\n '20P4425301': ['上海肝硬化.xlsx'],\n '20P4425302': ['上海肝硬化.xlsx'],\n '20P4425303': ['上海肝硬化.xlsx'],\n '20P4425304': ['上海肝硬化.xlsx'],\n '20P4425305': ['上海肝硬化.xlsx'],\n '20P4425306': ['上海肝硬化.xlsx'],\n '20P4425307': ['上海肝硬化.xlsx'],\n '20P4425308': ['上海肝硬化.xlsx'],\n '20P4425309': ['上海肝硬化.xlsx'],\n '20P4425310': ['上海肝硬化.xlsx'],\n '20P4425311': ['上海肝硬化.xlsx'],\n '20P4425312': ['上海肝硬化.xlsx'],\n '20P4425313': ['上海肝硬化.xlsx'],\n '20P4425314': ['上海肝硬化.xlsx'],\n '20P4425315': ['上海肝硬化.xlsx'],\n '20P4425316': ['上海肝硬化.xlsx'],\n '20P4425317': ['上海肝硬化.xlsx'],\n '20P4425318': ['上海肝硬化.xlsx'],\n '20P4425319': ['上海肝硬化.xlsx'],\n '20P4425320': ['上海肝硬化.xlsx'],\n '19P6980230': ['中大六院肠癌早筛-样本信息登记表(回顾性两批)L.xlsx'],\n '19P6980231': ['中大六院肠癌早筛-样本信息登记表(回顾性两批)L.xlsx'],\n '19P6980232': ['中大六院肠癌早筛-样本信息登记表(回顾性两批)L.xlsx'],\n '19P6980234': ['中大六院肠癌早筛-样本信息登记表(回顾性两批)L.xlsx'],\n '19P6980235': ['中大六院肠癌早筛-样本信息登记表(回顾性两批)L.xlsx'],\n '19P6980236': ['中大六院肠癌早筛-样本信息登记表(回顾性两批)L.xlsx'],\n '19P6980237': ['中大六院肠癌早筛-样本信息登记表(回顾性两批)L.xlsx'],\n '19P6980238': ['中大六院肠癌早筛-样本信息登记表(回顾性两批)L.xlsx'],\n '19P6980239': ['中大六院肠癌早筛-样本信息登记表(回顾性两批)L.xlsx'],\n '19P6980240': ['中大六院肠癌早筛-样本信息登记表(回顾性两批)L.xlsx'],\n '19P6980241': ['中大六院肠癌早筛-样本信息登记表(回顾性两批)L.xlsx'],\n '19P6980244': ['中大六院肠癌早筛-样本信息登记表(回顾性两批)L.xlsx'],\n '19P6980245': ['中大六院肠癌早筛-样本信息登记表(回顾性两批)L.xlsx'],\n '19P6980246': ['中大六院肠癌早筛-样本信息登记表(回顾性两批)L.xlsx'],\n '19P6980247': ['中大六院肠癌早筛-样本信息登记表(回顾性两批)L.xlsx'],\n '19P6980249': ['中大六院肠癌早筛-样本信息登记表(回顾性两批)L.xlsx'],\n '19P6980250': ['中大六院肠癌早筛-样本信息登记表(回顾性两批)L.xlsx'],\n '19P5803680': ['中大六院肠癌早筛-样本信息登记表2020-3-31.xlsx'],\n '19P5803681': ['中大六院肠癌早筛-样本信息登记表2020-3-31.xlsx'],\n '19P5803682': ['中大六院肠癌早筛-样本信息登记表2020-3-31.xlsx'],\n '19P5803683': ['中大六院肠癌早筛-样本信息登记表2020-3-31.xlsx'],\n '19P5803684': ['中大六院肠癌早筛-样本信息登记表2020-3-31.xlsx'],\n '19P5803685': ['中大六院肠癌早筛-样本信息登记表2020-3-31.xlsx'],\n '19P5803686': ['中大六院肠癌早筛-样本信息登记表2020-3-31.xlsx'],\n '19P5803687': ['中大六院肠癌早筛-样本信息登记表2020-3-31.xlsx'],\n '19P5803688': ['中大六院肠癌早筛-样本信息登记表2020-3-31.xlsx'],\n '19P5803689': ['中大六院肠癌早筛-样本信息登记表2020-3-31.xlsx'],\n '19P6714037': ['中大六院肠癌早筛-样本信息登记表2020-3-31.xlsx'],\n '19P6714038': ['中大六院肠癌早筛-样本信息登记表2020-3-31.xlsx'],\n '19P6714039': ['中大六院肠癌早筛-样本信息登记表2020-3-31.xlsx'],\n '19P6714040': ['中大六院肠癌早筛-样本信息登记表2020-3-31.xlsx'],\n '19P6714041': ['中大六院肠癌早筛-样本信息登记表2020-3-31.xlsx'],\n '19P6714042': ['中大六院肠癌早筛-样本信息登记表2020-3-31.xlsx'],\n '19P6714043': ['中大六院肠癌早筛-样本信息登记表2020-3-31.xlsx'],\n '19P6714044': ['中大六院肠癌早筛-样本信息登记表2020-3-31.xlsx'],\n '19P6714045': ['中大六院肠癌早筛-样本信息登记表2020-3-31.xlsx'],\n '19P6714046': ['中大六院肠癌早筛-样本信息登记表2020-3-31.xlsx'],\n '19P6714047': ['中大六院肠癌早筛-样本信息登记表2020-3-31.xlsx'],\n '19P6714048': ['中大六院肠癌早筛-样本信息登记表2020-3-31.xlsx'],\n '19P6714049': ['中大六院肠癌早筛-样本信息登记表2020-3-31.xlsx'],\n '19P6714050': ['中大六院肠癌早筛-样本信息登记表2020-3-31.xlsx'],\n '19P6714051': ['中大六院肠癌早筛-样本信息登记表2020-3-31.xlsx'],\n '19P6714052': ['中大六院肠癌早筛-样本信息登记表2020-3-31.xlsx'],\n '19P6714053': ['中大六院肠癌早筛-样本信息登记表2020-3-31.xlsx'],\n '19P6714054': ['中大六院肠癌早筛-样本信息登记表2020-3-31.xlsx'],\n '19P6714055': ['中大六院肠癌早筛-样本信息登记表2020-3-31.xlsx'],\n '19P6714056': ['中大六院肠癌早筛-样本信息登记表2020-3-31.xlsx'],\n '19P6714057': ['中大六院肠癌早筛-样本信息登记表2020-3-31.xlsx'],\n '19P6714058': ['中大六院肠癌早筛-样本信息登记表2020-3-31.xlsx'],\n '19P6714059': ['中大六院肠癌早筛-样本信息登记表2020-3-31.xlsx'],\n '19P6714060': ['中大六院肠癌早筛-样本信息登记表2020-3-31.xlsx'],\n '19P6714061': ['中大六院肠癌早筛-样本信息登记表2020-3-31.xlsx'],\n '19P6714062': ['中大六院肠癌早筛-样本信息登记表2020-3-31.xlsx'],\n '19P6714063': ['中大六院肠癌早筛-样本信息登记表2020-3-31.xlsx'],\n '19P6714064': ['中大六院肠癌早筛-样本信息登记表2020-3-31.xlsx'],\n '19P6714065': ['中大六院肠癌早筛-样本信息登记表2020-3-31.xlsx'],\n '19P6714066': ['中大六院肠癌早筛-样本信息登记表2020-3-31.xlsx'],\n '19P6980180': ['中大六院肠癌早筛-样本信息登记表2020-3-31.xlsx'],\n '19P6980181': ['中大六院肠癌早筛-样本信息登记表2020-3-31.xlsx'],\n '19P6980182': ['中大六院肠癌早筛-样本信息登记表2020-3-31.xlsx'],\n '19P6980183': ['中大六院肠癌早筛-样本信息登记表2020-3-31.xlsx'],\n '19P6980184': ['中大六院肠癌早筛-样本信息登记表2020-3-31.xlsx'],\n '19P6980185': ['中大六院肠癌早筛-样本信息登记表2020-3-31.xlsx'],\n '19P6980186': ['中大六院肠癌早筛-样本信息登记表2020-3-31.xlsx'],\n '19P6980187': ['中大六院肠癌早筛-样本信息登记表2020-3-31.xlsx'],\n '19P6980188': ['中大六院肠癌早筛-样本信息登记表2020-3-31.xlsx'],\n '19P6980190': ['中大六院肠癌早筛-样本信息登记表2020-3-31.xlsx'],\n '19P6980191': ['中大六院肠癌早筛-样本信息登记表2020-3-31.xlsx'],\n '19P6980192': ['中大六院肠癌早筛-样本信息登记表2020-3-31.xlsx'],\n '19P6980193': ['中大六院肠癌早筛-样本信息登记表2020-3-31.xlsx'],\n '19P6980194': ['中大六院肠癌早筛-样本信息登记表2020-3-31.xlsx'],\n '19P6980195': ['中大六院肠癌早筛-样本信息登记表2020-3-31.xlsx'],\n '19P6980196': ['中大六院肠癌早筛-样本信息登记表2020-3-31.xlsx'],\n '19P6980197': ['中大六院肠癌早筛-样本信息登记表2020-3-31.xlsx'],\n '19P6980198': ['中大六院肠癌早筛-样本信息登记表2020-3-31.xlsx'],\n '19P6980199': ['中大六院肠癌早筛-样本信息登记表2020-3-31.xlsx'],\n '19P6980200': ['中大六院肠癌早筛-样本信息登记表2020-3-31.xlsx'],\n '19P6980201': ['中大六院肠癌早筛-样本信息登记表2020-3-31.xlsx'],\n '19P6980202': ['中大六院肠癌早筛-样本信息登记表2020-3-31.xlsx'],\n '19P6980203': ['中大六院肠癌早筛-样本信息登记表2020-3-31.xlsx'],\n '19P6980204': ['中大六院肠癌早筛-样本信息登记表2020-3-31.xlsx'],\n '19P6980205': ['中大六院肠癌早筛-样本信息登记表2020-3-31.xlsx'],\n '19P6980206': ['中大六院肠癌早筛-样本信息登记表2020-3-31.xlsx'],\n '19P6980207': ['中大六院肠癌早筛-样本信息登记表2020-3-31.xlsx'],\n '19P6980208': ['中大六院肠癌早筛-样本信息登记表2020-3-31.xlsx'],\n '19P6980209': ['中大六院肠癌早筛-样本信息登记表2020-3-31.xlsx'],\n '19P6980210': ['中大六院肠癌早筛-样本信息登记表2020-3-31.xlsx'],\n '19P6980211': ['中大六院肠癌早筛-样本信息登记表2020-3-31.xlsx'],\n '19P6980212': ['中大六院肠癌早筛-样本信息登记表2020-3-31.xlsx'],\n '19P6980213': ['中大六院肠癌早筛-样本信息登记表2020-3-31.xlsx'],\n '19P6980214': ['中大六院肠癌早筛-样本信息登记表2020-3-31.xlsx'],\n '19P6980215': ['中大六院肠癌早筛-样本信息登记表2020-3-31.xlsx'],\n '19P6980216': ['中大六院肠癌早筛-样本信息登记表2020-3-31.xlsx'],\n '19P6980217': ['中大六院肠癌早筛-样本信息登记表2020-3-31.xlsx'],\n '19P6980218': ['中大六院肠癌早筛-样本信息登记表2020-3-31.xlsx'],\n '19P6980219': ['中大六院肠癌早筛-样本信息登记表2020-3-31.xlsx'],\n '19P6980220': ['中大六院肠癌早筛-样本信息登记表2020-3-31.xlsx'],\n '19P6980221': ['中大六院肠癌早筛-样本信息登记表2020-3-31.xlsx'],\n '19P6980222': ['中大六院肠癌早筛-样本信息登记表2020-3-31.xlsx'],\n '19P6980223': ['中大六院肠癌早筛-样本信息登记表2020-3-31.xlsx'],\n '19P6980224': ['中大六院肠癌早筛-样本信息登记表2020-3-31.xlsx'],\n '19P6980225': ['中大六院肠癌早筛-样本信息登记表2020-3-31.xlsx'],\n '19P6980226': ['中大六院肠癌早筛-样本信息登记表2020-3-31.xlsx'],\n '19P6980227': ['中大六院肠癌早筛-样本信息登记表2020-3-31.xlsx'],\n '19P6980228': ['中大六院肠癌早筛-样本信息登记表2020-3-31.xlsx'],\n '19P6980229': ['中大六院肠癌早筛-样本信息登记表2020-3-31.xlsx'],\n '19P7354466': ['中大六院肠癌早筛-样本信息登记表2020-3-31.xlsx'],\n '19P7354467': ['中大六院肠癌早筛-样本信息登记表2020-3-31.xlsx'],\n '19P7354468': ['中大六院肠癌早筛-样本信息登记表2020-3-31.xlsx'],\n '19P7354469': ['中大六院肠癌早筛-样本信息登记表2020-3-31.xlsx'],\n '19P7354470': ['中大六院肠癌早筛-样本信息登记表2020-3-31.xlsx'],\n '19P7354471': ['中大六院肠癌早筛-样本信息登记表2020-3-31.xlsx'],\n '19P7354472': ['中大六院肠癌早筛-样本信息登记表2020-3-31.xlsx'],\n '19P7354473': ['中大六院肠癌早筛-样本信息登记表2020-3-31.xlsx'],\n '19P7354474': ['中大六院肠癌早筛-样本信息登记表2020-3-31.xlsx'],\n '19P7354475': ['中大六院肠癌早筛-样本信息登记表2020-3-31.xlsx'],\n '19P7354476': ['中大六院肠癌早筛-样本信息登记表2020-3-31.xlsx'],\n '19P7354477': ['中大六院肠癌早筛-样本信息登记表2020-3-31.xlsx'],\n '19P7354478': ['中大六院肠癌早筛-样本信息登记表2020-3-31.xlsx'],\n '19P7354479': ['中大六院肠癌早筛-样本信息登记表2020-3-31.xlsx'],\n '19P7354481': ['中大六院肠癌早筛-样本信息登记表2020-3-31.xlsx'],\n '19P7354482': ['中大六院肠癌早筛-样本信息登记表2020-3-31.xlsx'],\n '19P7354483': ['中大六院肠癌早筛-样本信息登记表2020-3-31.xlsx'],\n '19P7354484': ['中大六院肠癌早筛-样本信息登记表2020-3-31.xlsx'],\n '19P7354485': ['中大六院肠癌早筛-样本信息登记表2020-3-31.xlsx'],\n '19P7354486': ['中大六院肠癌早筛-样本信息登记表2020-3-31.xlsx'],\n '19P7354487': ['中大六院肠癌早筛-样本信息登记表2020-3-31.xlsx'],\n '19P7354488': ['中大六院肠癌早筛-样本信息登记表2020-3-31.xlsx'],\n '19P7354489': ['中大六院肠癌早筛-样本信息登记表2020-3-31.xlsx'],\n '19P7354490': ['中大六院肠癌早筛-样本信息登记表2020-3-31.xlsx'],\n '19P7354491': ['中大六院肠癌早筛-样本信息登记表2020-3-31.xlsx'],\n '19P7354492': ['中大六院肠癌早筛-样本信息登记表2020-3-31.xlsx'],\n '19P7354493': ['中大六院肠癌早筛-样本信息登记表2020-3-31.xlsx'],\n '19P7354494': ['中大六院肠癌早筛-样本信息登记表2020-3-31.xlsx'],\n '19P7354495': ['中大六院肠癌早筛-样本信息登记表2020-3-31.xlsx'],\n '19P7354496': ['中大六院肠癌早筛-样本信息登记表2020-3-31.xlsx'],\n '19P7354497': ['中大六院肠癌早筛-样本信息登记表2020-3-31.xlsx'],\n '19P7354498': ['中大六院肠癌早筛-样本信息登记表2020-3-31.xlsx'],\n '19P7354499': ['中大六院肠癌早筛-样本信息登记表2020-3-31.xlsx'],\n '19P7354500': ['中大六院肠癌早筛-样本信息登记表2020-3-31.xlsx'],\n '19P7354501': ['中大六院肠癌早筛-样本信息登记表2020-3-31.xlsx'],\n '19P7354502': ['中大六院肠癌早筛-样本信息登记表2020-3-31.xlsx'],\n '19P7354503': ['中大六院肠癌早筛-样本信息登记表2020-3-31.xlsx'],\n '19P7354504': ['中大六院肠癌早筛-样本信息登记表2020-3-31.xlsx'],\n '19P7354505': ['中大六院肠癌早筛-样本信息登记表2020-3-31.xlsx'],\n '19P7354506': ['中大六院肠癌早筛-样本信息登记表2020-3-31.xlsx'],\n '19P7354508': ['中大六院肠癌早筛-样本信息登记表2020-3-31.xlsx'],\n '19P7354509': ['中大六院肠癌早筛-样本信息登记表2020-3-31.xlsx'],\n '20P2948034': ['中大六院肠癌早筛-样本信息登记表2020-3-31.xlsx'],\n '20P2948036': ['中大六院肠癌早筛-样本信息登记表2020-3-31.xlsx'],\n '20P2948039': ['中大六院肠癌早筛-样本信息登记表2020-3-31.xlsx'],\n '20P2948041': ['中大六院肠癌早筛-样本信息登记表2020-3-31.xlsx'],\n '20P2948042': ['中大六院肠癌早筛-样本信息登记表2020-3-31.xlsx'],\n '20P2948044': ['中大六院肠癌早筛-样本信息登记表2020-3-31.xlsx'],\n '20P2948045': ['中大六院肠癌早筛-样本信息登记表2020-3-31.xlsx'],\n '20P2948047': ['中大六院肠癌早筛-样本信息登记表2020-3-31.xlsx'],\n '20P2948048': ['中大六院肠癌早筛-样本信息登记表2020-3-31.xlsx'],\n '20P2948049': ['中大六院肠癌早筛-样本信息登记表2020-3-31.xlsx'],\n '20P2948050': ['中大六院肠癌早筛-样本信息登记表2020-3-31.xlsx'],\n '20P2948051': ['中大六院肠癌早筛-样本信息登记表2020-3-31.xlsx'],\n '20P2948053': ['中大六院肠癌早筛-样本信息登记表2020-3-31.xlsx'],\n '19P7247899': ['中大六院肠癌早筛-样本信息登记表2020-3-31.xlsx'],\n '19P7247898': ['中大六院肠癌早筛-样本信息登记表2020-3-31.xlsx'],\n '19P7247896': ['中大六院肠癌早筛-样本信息登记表2020-3-31.xlsx'],\n '19P7247895': ['中大六院肠癌早筛-样本信息登记表2020-3-31.xlsx'],\n '19P7247894': ['中大六院肠癌早筛-样本信息登记表2020-3-31.xlsx'],\n '19P7247893': ['中大六院肠癌早筛-样本信息登记表2020-3-31.xlsx'],\n '19P7247892': ['中大六院肠癌早筛-样本信息登记表2020-3-31.xlsx'],\n '19P7247891': ['中大六院肠癌早筛-样本信息登记表2020-3-31.xlsx'],\n '19P7247890': ['中大六院肠癌早筛-样本信息登记表2020-3-31.xlsx'],\n '19P7247888': ['中大六院肠癌早筛-样本信息登记表2020-3-31.xlsx'],\n '19P7247886': ['中大六院肠癌早筛-样本信息登记表2020-3-31.xlsx'],\n '19P7247885': ['中大六院肠癌早筛-样本信息登记表2020-3-31.xlsx'],\n '19P7247884': ['中大六院肠癌早筛-样本信息登记表2020-3-31.xlsx'],\n '19P7247883': ['中大六院肠癌早筛-样本信息登记表2020-3-31.xlsx'],\n '19P7247882': ['中大六院肠癌早筛-样本信息登记表2020-3-31.xlsx'],\n '19P7247881': ['中大六院肠癌早筛-样本信息登记表2020-3-31.xlsx'],\n '19P7247880': ['中大六院肠癌早筛-样本信息登记表2020-3-31.xlsx'],\n '19P7247879': ['中大六院肠癌早筛-样本信息登记表2020-3-31.xlsx'],\n '19P7247878': ['中大六院肠癌早筛-样本信息登记表2020-3-31.xlsx'],\n '19P7247877': ['中大六院肠癌早筛-样本信息登记表2020-3-31.xlsx'],\n '19P7247876': ['中大六院肠癌早筛-样本信息登记表2020-3-31.xlsx'],\n '19P7247875': ['中大六院肠癌早筛-样本信息登记表2020-3-31.xlsx'],\n '19P7247874': ['中大六院肠癌早筛-样本信息登记表2020-3-31.xlsx'],\n '19P7247873': ['中大六院肠癌早筛-样本信息登记表2020-3-31.xlsx'],\n '19P7247872': ['中大六院肠癌早筛-样本信息登记表2020-3-31.xlsx'],\n '19P7247871': ['中大六院肠癌早筛-样本信息登记表2020-3-31.xlsx'],\n '19P7247867': ['中大六院肠癌早筛-样本信息登记表2020-3-31.xlsx'],\n '19P7247866': ['中大六院肠癌早筛-样本信息登记表2020-3-31.xlsx'],\n '19P7247864': ['中大六院肠癌早筛-样本信息登记表2020-3-31.xlsx'],\n '19P7247863': ['中大六院肠癌早筛-样本信息登记表2020-3-31.xlsx'],\n '19P7247862': ['中大六院肠癌早筛-样本信息登记表2020-3-31.xlsx'],\n '19P7247861': ['中大六院肠癌早筛-样本信息登记表2020-3-31.xlsx'],\n '19P7247860': ['中大六院肠癌早筛-样本信息登记表2020-3-31.xlsx'],\n '19P7247859': ['中大六院肠癌早筛-样本信息登记表2020-3-31.xlsx'],\n '19P7247858': ['中大六院肠癌早筛-样本信息登记表2020-3-31.xlsx'],\n '19P7247857': ['中大六院肠癌早筛-样本信息登记表2020-3-31.xlsx'],\n '19P7247856': ['中大六院肠癌早筛-样本信息登记表2020-3-31.xlsx'],\n '19P7247854': ['中大六院肠癌早筛-样本信息登记表2020-3-31.xlsx'],\n '19P7247853': ['中大六院肠癌早筛-样本信息登记表2020-3-31.xlsx'],\n '19P7247850': ['中大六院肠癌早筛-样本信息登记表2020-3-31.xlsx'],\n '19P7247849': ['中大六院肠癌早筛-样本信息登记表2020-3-31.xlsx'],\n '19P7247848': ['中大六院肠癌早筛-样本信息登记表2020-3-31.xlsx'],\n '19P7247847': ['中大六院肠癌早筛-样本信息登记表2020-3-31.xlsx'],\n '19P7247846': ['中大六院肠癌早筛-样本信息登记表2020-3-31.xlsx'],\n '19P7247844': ['中大六院肠癌早筛-样本信息登记表2020-3-31.xlsx'],\n '19P7247843': ['中大六院肠癌早筛-样本信息登记表2020-3-31.xlsx'],\n '19P5803550': ['中山肝癌MRD-20191113.xlsx'],\n '19P5803551': ['中山肝癌MRD-20191113.xlsx'],\n '19P5803552': ['中山肝癌MRD-20191113.xlsx'],\n '19P5803553': ['中山肝癌MRD-20191113.xlsx'],\n '19P5803554': ['中山肝癌MRD-20191113.xlsx'],\n '19P5803555': ['中山肝癌MRD-20191113.xlsx'],\n '19P5803556': ['中山肝癌MRD-20191113.xlsx'],\n '19P5803557': ['中山肝癌MRD-20191113.xlsx'],\n '19P5803558': ['中山肝癌MRD-20191113.xlsx'],\n '19P5803559': ['中山肝癌MRD-20191113.xlsx'],\n '19P5803560': ['中山肝癌MRD-20191113.xlsx'],\n '19P5803561': ['中山肝癌MRD-20191113.xlsx'],\n '19P5803562': ['中山肝癌MRD-20191113.xlsx'],\n '19P5803563': ['中山肝癌MRD-20191113.xlsx'],\n '19P5803564': ['中山肝癌MRD-20191113.xlsx'],\n '19P5803565': ['中山肝癌MRD-20191113.xlsx'],\n '19P5803566': ['中山肝癌MRD-20191113.xlsx'],\n '19P5803567': ['中山肝癌MRD-20191113.xlsx'],\n '19P5803568': ['中山肝癌MRD-20191113.xlsx'],\n '19P5803569': ['中山肝癌MRD-20191113.xlsx'],\n '19P5803570': ['中山肝癌MRD-20191113.xlsx'],\n '19P5803571': ['中山肝癌MRD-20191113.xlsx'],\n '19P5803572': ['中山肝癌MRD-20191113.xlsx'],\n '19P5803573': ['中山肝癌MRD-20191113.xlsx'],\n '19P5803574': ['中山肝癌MRD-20191113.xlsx'],\n '19P5803575': ['中山肝癌MRD-20191113.xlsx'],\n '19P5803576': ['中山肝癌MRD-20191113.xlsx'],\n '19P5803577': ['中山肝癌MRD-20191113.xlsx'],\n '19P5803578': ['中山肝癌MRD-20191113.xlsx'],\n '19P5803579': ['中山肝癌MRD-20191113.xlsx'],\n '19P5803580': ['中山肝癌MRD-20191113.xlsx'],\n '19P5803581': ['中山肝癌MRD-20191113.xlsx'],\n '19P5803582': ['中山肝癌MRD-20191113.xlsx'],\n '19P5803583': ['中山肝癌MRD-20191113.xlsx'],\n '19P5803584': ['中山肝癌MRD-20191113.xlsx'],\n '19P5803585': ['中山肝癌MRD-20191113.xlsx'],\n '19P5803586': ['中山肝癌MRD-20191113.xlsx'],\n '19P5803587': ['中山肝癌MRD-20191113.xlsx'],\n '19P5803588': ['中山肝癌MRD-20191113.xlsx'],\n '19P5803589': ['中山肝癌MRD-20191113.xlsx'],\n '19P5803590': ['中山肝癌MRD-20191113.xlsx'],\n '19P5803591': ['中山肝癌MRD-20191113.xlsx'],\n '19P5803592': ['中山肝癌MRD-20191113.xlsx'],\n '19P5803593': ['中山肝癌MRD-20191113.xlsx'],\n '19P5803594': ['中山肝癌MRD-20191113.xlsx'],\n '19P5803595': ['中山肝癌MRD-20191113.xlsx'],\n '19P5803596': ['中山肝癌MRD-20191113.xlsx'],\n '19P5803597': ['中山肝癌MRD-20191113.xlsx'],\n '19P5803598': ['中山肝癌MRD-20191113.xlsx'],\n '19P5803599': ['中山肝癌MRD-20191113.xlsx'],\n '19P5803600': ['中山肝癌MRD-20191113.xlsx'],\n '19P5803601': ['中山肝癌MRD-20191113.xlsx'],\n '19P5803602': ['中山肝癌MRD-20191113.xlsx'],\n '19P5803603': ['中山肝癌MRD-20191113.xlsx'],\n '19P5803604': ['中山肝癌MRD-20191113.xlsx'],\n '19P5803605': ['中山肝癌MRD-20191113.xlsx'],\n '19P5803606': ['中山肝癌MRD-20191113.xlsx'],\n '19P5803607': ['中山肝癌MRD-20191113.xlsx'],\n '19P5803608': ['中山肝癌MRD-20191113.xlsx'],\n '19P5803609': ['中山肝癌MRD-20191113.xlsx'],\n '19P5803610': ['中山肝癌MRD-20191113.xlsx'],\n '19P5803611': ['中山肝癌MRD-20191113.xlsx'],\n '19P5803612': ['中山肝癌MRD-20191113.xlsx'],\n '19P5803613': ['中山肝癌MRD-20191113.xlsx'],\n '19P5803614': ['中山肝癌MRD-20191113.xlsx'],\n '19P5803615': ['中山肝癌MRD-20191113.xlsx'],\n '19P5803616': ['中山肝癌MRD-20191113.xlsx'],\n '19P5803617': ['中山肝癌MRD-20191113.xlsx'],\n '19P5803618': ['中山肝癌MRD-20191113.xlsx'],\n '19P5803619': ['中山肝癌MRD-20191113.xlsx'],\n '19P5803620': ['中山肝癌MRD-20191113.xlsx'],\n '19P5803621': ['中山肝癌MRD-20191113.xlsx'],\n '19P5803622': ['中山肝癌MRD-20191113.xlsx'],\n '19P5803623': ['中山肝癌MRD-20191113.xlsx'],\n ...}"
     },
     "metadata": {},
     "execution_count": 46
    }
   ],
   "source": [
    "sample_id_df_list"
   ]
  },
  {
   "cell_type": "code",
   "execution_count": null,
   "metadata": {},
   "outputs": [],
   "source": []
  }
 ],
 "metadata": {
  "language_info": {
   "codemirror_mode": {
    "name": "ipython",
    "version": 3
   },
   "file_extension": ".py",
   "mimetype": "text/x-python",
   "name": "python",
   "nbconvert_exporter": "python",
   "pygments_lexer": "ipython3",
   "version": "3.6.7-final"
  },
  "orig_nbformat": 2,
  "kernelspec": {
   "name": "python36764bit590e0209625c41dab6b137cee9f052d1",
   "display_name": "Python 3.6.7 64-bit"
  }
 },
 "nbformat": 4,
 "nbformat_minor": 2
}